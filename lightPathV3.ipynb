{
 "cells": [
  {
   "cell_type": "code",
   "execution_count": 1,
   "id": "f3989c17",
   "metadata": {},
   "outputs": [],
   "source": [
    "import numpy as np\n",
    "import matplotlib.pyplot as plt\n",
    "\n",
    "import sys\n",
    "sys.path.append(\"C:/Users/haoyuan/Documents/GitHub/XRaySimulation/\")\n",
    "from XRaySimulation import util"
   ]
  },
  {
   "cell_type": "code",
   "execution_count": 45,
   "id": "36fcc441",
   "metadata": {},
   "outputs": [
    {
     "name": "stdout",
     "output_type": "stream",
     "text": [
      "delta1 = 1.48 deg\n"
     ]
    }
   ],
   "source": [
    "photonEnergyKeV = 10  \n",
    "k0 = util.kev_to_wavevec_length(photonEnergyKeV)\n",
    "\n",
    "gratingK = np.pi * 2 / 1. \n",
    "TGK = np.pi * 2 / (1.2e-3)\n",
    "\n",
    "delta = np.arcsin(TGK / 2 / k0) / 2\n",
    "print(\"delta1 = {:.2f} deg\".format(np.rad2deg(delta)))"
   ]
  },
  {
   "cell_type": "code",
   "execution_count": 46,
   "id": "59a0498d",
   "metadata": {},
   "outputs": [
    {
     "data": {
      "text/plain": [
       "3.2977170380000005"
      ]
     },
     "execution_count": 46,
     "metadata": {},
     "output_type": "execute_result"
    }
   ],
   "source": [
    "11 * util.c"
   ]
  },
  {
   "cell_type": "code",
   "execution_count": 29,
   "id": "eb2d7817",
   "metadata": {
    "scrolled": false
   },
   "outputs": [
    {
     "name": "stdout",
     "output_type": "stream",
     "text": [
      "delta1 = 7.10 mdeg\n",
      "delta1 = 0.36 mdeg\n",
      "1.000005411264225\n",
      "3.960399083698607 0.03960399083698607\n",
      "0.495936793362202\n"
     ]
    }
   ],
   "source": [
    "photonEnergyKeV = 10  \n",
    "k0 = util.kev_to_wavevec_length(photonEnergyKeV)\n",
    "\n",
    "gratingK = np.pi * 2 / 1. \n",
    "TGK = np.pi * 2 / (5e-3)\n",
    "\n",
    "delta = np.arcsin(gratingK / k0)\n",
    "print(\"delta1 = {:.2f} mdeg\".format(np.rad2deg(delta) * 1000))\n",
    "\n",
    "angleTmp = np.arcsin(TGK / k0 / 2)\n",
    "theta2 = (angleTmp + delta) / 2\n",
    "print(\"delta1 = {:.2f} mdeg\".format(np.rad2deg(theta2)))\n",
    "\n",
    "theta1 = np.deg2rad(0.1)\n",
    "\n",
    "# define the nominal values of several distances\n",
    "l1 = 5e6\n",
    "l2 = 6e6\n",
    "l3 = (l2 - l1 * np.cos(2 * delta)) / np.cos(2 * theta1 - 2 * delta) #(np.sin(delta * 2) / np.sin(np.pi - theta1 * 2) * l2)\n",
    "print(l3 / 1e6)\n",
    "l4 = 2e6\n",
    "def getL5L7(delta_, theta2_, l2_, l4_, eta_):\n",
    "    return ((eta_ * np.cos(delta_ - 2*theta2_) + (-l2_ + l4_) * np.sin(delta_ - 2*theta2_))/np.sin(2*theta2_), \n",
    "            - (eta_ * np.cos(delta_) + (-l2_ + l4_) * np.sin(delta_))/np.sin(2*theta2_))\n",
    "\n",
    "l5, l7 = getL5L7(delta_=delta, theta2_=theta2, l2_=l2, l4_=l4, eta_=0)\n",
    "print(l5 / 1e6, l7 / 1e6)\n",
    "\n",
    "def getL7EtagivenL5(delta_, theta2_, l2_, l4_, l5_):\n",
    "    return (l5_ * np.sin(2 * theta2_) / np.cos(delta_ - 2 * theta2_) + (l2_ - l4_)* np.tan(delta_ - 2 * theta2_), \n",
    "            -((-l2_ + l4_ + l5_ * np.cos(delta_)) / np.cos(delta_ - 2 * theta2_)))\n",
    "\n",
    "# Separation between the two pusles\n",
    "separate = 2 * 2e6 * np.tan(delta)\n",
    "print(separate / 1000)\n",
    "\n",
    "###################################\n",
    "#   Get alignment error undertainty\n",
    "###################################\n",
    "\n",
    "# alignment error of the overlap of the two pulses\n",
    "etaScan = np.linspace(-3, 3, 30)\n",
    "\n",
    "# Sample installation error with respect to the scintillator\n",
    "l2Scan = np.linspace(-100, 100,30)\n",
    "\n",
    "# Mirror angle alignment error\n",
    "theta2Scan = np.deg2rad(np.random.rand(100) * 0.02 - 0.01) * 2\n",
    "theta3Scan = np.deg2rad(np.random.rand(100) * 0.02 - 0.01) * 2\n",
    "\n",
    "# Path length info for each branch\n",
    "pathInfoB1 = np.zeros((etaScan.shape[0], theta2Scan.shape[0], l2Scan.shape[0], 4))\n",
    "pathInfoB2 = np.zeros((etaScan.shape[0], theta3Scan.shape[0], l2Scan.shape[0], 4))\n",
    "\n",
    "for etaIdx in range(etaScan.shape[0]):\n",
    "    \n",
    "    # Initial alignment\n",
    "    # The two light path might have different theta angle\n",
    "    for thetaIdx in range(theta2Scan.shape[0]):\n",
    "        l5tmp, l7tmp = getL5L7(delta_=delta, \n",
    "                               theta2_=theta2 + theta2Scan[thetaIdx], \n",
    "                               l2_=l2,\n",
    "                               l4_=l4,\n",
    "                               eta_=0.0)\n",
    "        \n",
    "        l6tmp, l8tmp = getL5L7(delta_=delta, \n",
    "                               theta2_=theta2 + theta3Scan[thetaIdx], \n",
    "                               l2_=l2,\n",
    "                               l4_=l4,\n",
    "                               eta_=etaScan[etaIdx])\n",
    "        \n",
    "        # Switching back to the sample, there may be alignment error in l2\n",
    "        for l2Idx in range(l2Scan.shape[0]):\n",
    "            # Get the eta and the l7\n",
    "            etaTmp1, l7tmp = getL7EtagivenL5(delta_=delta,\n",
    "                                            theta2_=theta2 + theta2Scan[thetaIdx],\n",
    "                                            l2_=l2 + l2Scan[l2Idx],\n",
    "                                            l4_=l4,\n",
    "                                            l5_=l5tmp)\n",
    "            \n",
    "            etaTmp2, l8tmp = getL7EtagivenL5(delta_=delta,\n",
    "                                             theta2_=theta2 + theta3Scan[thetaIdx],\n",
    "                                             l2_=l2 + l2Scan[l2Idx],\n",
    "                                             l4_=l4,\n",
    "                                             l5_=l6tmp)\n",
    "\n",
    "            # Assign the value to the test path\n",
    "            pathInfoB1[etaIdx, thetaIdx, l2Idx, 0] = l5tmp\n",
    "            pathInfoB1[etaIdx, thetaIdx, l2Idx, 1] = l7tmp\n",
    "            pathInfoB1[etaIdx, thetaIdx, l2Idx, 2] = etaTmp1\n",
    "            pathInfoB1[etaIdx, thetaIdx, l2Idx, 3] = l5tmp + l7tmp\n",
    "            \n",
    "            pathInfoB2[etaIdx, thetaIdx, l2Idx, 0] = l6tmp\n",
    "            pathInfoB2[etaIdx, thetaIdx, l2Idx, 1] = l8tmp\n",
    "            pathInfoB2[etaIdx, thetaIdx, l2Idx, 2] = etaTmp2\n",
    "            pathInfoB2[etaIdx, thetaIdx, l2Idx, 3] = l6tmp + l8tmp"
   ]
  },
  {
   "cell_type": "code",
   "execution_count": 30,
   "id": "23226ef7",
   "metadata": {},
   "outputs": [
    {
     "data": {
      "text/plain": [
       "6000000.0"
      ]
     },
     "execution_count": 30,
     "metadata": {},
     "output_type": "execute_result"
    }
   ],
   "source": [
    "l1 * np.cos(delta * 2) + l3 * np.cos(2 * theta1 - 2 * delta)"
   ]
  },
  {
   "cell_type": "code",
   "execution_count": 31,
   "id": "60d294af",
   "metadata": {},
   "outputs": [
    {
     "data": {
      "text/plain": [
       "-7.794487716961782"
      ]
     },
     "execution_count": 31,
     "metadata": {},
     "output_type": "execute_result"
    }
   ],
   "source": [
    "(l4 + l5 + l7 - l1 - l3) / util.c"
   ]
  },
  {
   "cell_type": "code",
   "execution_count": 13,
   "id": "a3b91974",
   "metadata": {},
   "outputs": [],
   "source": [
    "pathLengthDiff = pathInfoB2[:,:,:,3] - pathInfoB1[:,:,:,3]\n",
    "pathLengthDiff = np.reshape(pathLengthDiff, np.prod(pathLengthDiff.shape))"
   ]
  },
  {
   "cell_type": "code",
   "execution_count": 14,
   "id": "8a794e77",
   "metadata": {},
   "outputs": [
    {
     "data": {
      "image/png": "[encoded data removed]",
      "text/plain": [
       "<Figure size 640x480 with 1 Axes>"
      ]
     },
     "metadata": {},
     "output_type": "display_data"
    }
   ],
   "source": [
    "np.random.shuffle(pathLengthDiff)\n",
    "plt.plot(pathLengthDiff/util.c, '.')\n",
    "plt.show()"
   ]
  },
  {
   "cell_type": "code",
   "execution_count": 15,
   "id": "dbbdfdca",
   "metadata": {},
   "outputs": [
    {
     "data": {
      "image/png": "[encoded data removed]",
      "text/plain": [
       "<Figure size 640x480 with 1 Axes>"
      ]
     },
     "metadata": {},
     "output_type": "display_data"
    }
   ],
   "source": [
    "positionDifference = pathInfoB2[:,:,:,2] - pathInfoB1[:,:,:,2]\n",
    "positionDifference = np.reshape(positionDifference, np.prod(positionDifference.shape))\n",
    "\n",
    "plt.plot(positionDifference, '.')\n",
    "plt.show()"
   ]
  }
 ],
 "metadata": {
  "kernelspec": {
   "display_name": "Python 3 (ipykernel)",
   "language": "python",
   "name": "python3"
  },
  "language_info": {
   "codemirror_mode": {
    "name": "ipython",
    "version": 3
   },
   "file_extension": ".py",
   "mimetype": "text/x-python",
   "name": "python",
   "nbconvert_exporter": "python",
   "pygments_lexer": "ipython3",
   "version": "3.8.15"
  }
 },
 "nbformat": 4,
 "nbformat_minor": 5
}
